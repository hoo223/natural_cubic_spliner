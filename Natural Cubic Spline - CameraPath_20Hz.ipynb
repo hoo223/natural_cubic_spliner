{
 "cells": [
  {
   "cell_type": "markdown",
   "metadata": {},
   "source": [
    "# Reference\n",
    "https://medium.com/eatpredlove/natural-cubic-splines-implementation-with-python-edf68feb57aa"
   ]
  },
  {
   "cell_type": "code",
   "execution_count": 1,
   "metadata": {},
   "outputs": [],
   "source": [
    "import numpy as np\n",
    "import matplotlib.pyplot as plt\n",
    "import sys"
   ]
  },
  {
   "cell_type": "code",
   "execution_count": 2,
   "metadata": {},
   "outputs": [
    {
     "name": "stdout",
     "output_type": "stream",
     "text": [
      "9.39567 1.3212\n"
     ]
    },
    {
     "data": {
      "text/plain": [
       "[<matplotlib.lines.Line2D at 0x7f0f061a5040>]"
      ]
     },
     "execution_count": 2,
     "metadata": {},
     "output_type": "execute_result"
    },
    {
     "data": {
      "image/png": "[encoded data removed]",
      "text/plain": [
       "<Figure size 432x288 with 1 Axes>"
      ]
     },
     "metadata": {
      "needs_background": "light"
     },
     "output_type": "display_data"
    }
   ],
   "source": [
    "readfile = open(\"CameraPath_20Hz.txt\", 'r')\n",
    "lines = readfile.readlines()\n",
    "\n",
    "x0 = float(lines[0].split('\\n')[0].split(',')[1])\n",
    "y0 = float(lines[0].split('\\n')[0].split(',')[2])\n",
    "print(x0, y0)\n",
    "\n",
    "xs = []\n",
    "ys = []\n",
    "ts = []\n",
    "\n",
    "sampling_freq = 100\n",
    "\n",
    "cnt = 0\n",
    "for line in lines:\n",
    "    cnt +=1\n",
    "    item = line.split('\\n')[0].split(',')\n",
    "    time, x, y, z, w, rx, ry, rz = item\n",
    "    if cnt%sampling_freq == 0:\n",
    "        ts.append(float(time))\n",
    "        xs.append(-(float(x)-x0))\n",
    "        ys.append(-(float(y)-y0))\n",
    "plt.plot(ts, xs)"
   ]
  },
  {
   "cell_type": "code",
   "execution_count": 3,
   "metadata": {},
   "outputs": [],
   "source": [
    "from cubic_spline_class import cubic_spliner\n",
    "cubic_spliner_obejct = cubic_spliner()"
   ]
  },
  {
   "cell_type": "code",
   "execution_count": 4,
   "metadata": {
    "scrolled": true
   },
   "outputs": [
    {
     "name": "stdout",
     "output_type": "stream",
     "text": [
      "Jacobi Method Output:\n",
      "Number of Iterations:  51\n",
      "Norm of Difference:  0.0\n",
      "0.468, 0.000, -0.000\n",
      "0.440, -0.006, -0.000\n",
      "0.361, -0.010, -0.003\n",
      "0.020, -0.058, 0.011\n",
      "0.251, 0.104, -0.011\n",
      "0.497, -0.055, 0.004\n",
      "0.258, 0.008, -0.000\n",
      "0.330, 0.007, -0.005\n",
      "0.052, -0.062, 0.010\n",
      "0.207, 0.093, -0.009\n",
      "0.490, -0.037, 0.002\n"
     ]
    }
   ],
   "source": [
    "total_time = ts[len(ts)-1] -ts[0]\n",
    "time = []\n",
    "q = []\n",
    "dq = []\n",
    "ddq = []\n",
    "\n",
    "b, c, d = cubic_spliner_obejct.cubic_spline(ts, xs, 0)\n",
    "for i in zip(b, c, d):\n",
    "    print(\"{:.3f}, {:.3f}, {:.3f}\".format(i[0], i[1], i[2]))"
   ]
  },
  {
   "cell_type": "code",
   "execution_count": 5,
   "metadata": {},
   "outputs": [
    {
     "data": {
      "text/plain": [
       "[<matplotlib.lines.Line2D at 0x7f0f06148f10>]"
      ]
     },
     "execution_count": 5,
     "metadata": {},
     "output_type": "execute_result"
    },
    {
     "data": {
      "image/png": "[encoded data removed]",
      "text/plain": [
       "<Figure size 432x288 with 1 Axes>"
      ]
     },
     "metadata": {
      "needs_background": "light"
     },
     "output_type": "display_data"
    }
   ],
   "source": [
    "for i in range(1000):\n",
    "    t = total_time/1000.0*i+ts[0]\n",
    "    num = cubic_spliner_obejct.check_poly_num(t,ts)\n",
    "    if num < len(ts):\n",
    "        x, dx, ddx = cubic_spliner_obejct.cubic_polynomial(ts[num-1], xs[num-1], b[num-1], c[num-1], d[num-1], t)\n",
    "        time.append(t)\n",
    "        q.append(x)\n",
    "        dq.append(dx)\n",
    "        ddq.append(ddx)\n",
    "\n",
    "plt.plot(time, q)"
   ]
  },
  {
   "cell_type": "code",
   "execution_count": null,
   "metadata": {},
   "outputs": [],
   "source": []
  }
 ],
 "metadata": {
  "kernelspec": {
   "display_name": "Python 3",
   "language": "python",
   "name": "python3"
  },
  "language_info": {
   "codemirror_mode": {
    "name": "ipython",
    "version": 3
   },
   "file_extension": ".py",
   "mimetype": "text/x-python",
   "name": "python",
   "nbconvert_exporter": "python",
   "pygments_lexer": "ipython3",
   "version": "3.8.3"
  }
 },
 "nbformat": 4,
 "nbformat_minor": 2
}
